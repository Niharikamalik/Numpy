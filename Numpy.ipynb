{
 "cells": [
  {
   "cell_type": "markdown",
   "id": "8a8766cf",
   "metadata": {},
   "source": [
    "## Numpy :\n",
    "### A library for the Python programming language, adding support for large, multi-dimensional arrays and matrices, along with a large collection of high-level mathematical functions to operate on these arrays.\n"
   ]
  },
  {
   "cell_type": "markdown",
   "id": "af55338e",
   "metadata": {},
   "source": [
    "### why Numpy is better than list:\n",
    "###### 1) numpy need less more than list\n",
    "###### 2) numpy is faster than list \n",
    "###### 3) numpy is more easy  than list\n",
    "###### 4) numpy has more functionality"
   ]
  },
  {
   "cell_type": "code",
   "execution_count": 3,
   "id": "06e8ae2a",
   "metadata": {},
   "outputs": [
    {
     "name": "stdout",
     "output_type": "stream",
     "text": [
      "[1 2 3 4]\n",
      "<class 'numpy.ndarray'>\n"
     ]
    }
   ],
   "source": [
    "import numpy as np\n",
    "## create numpy array\n",
    "a = [1,2,3,4]\n",
    "b = np.array(a)\n",
    "print(b)\n",
    "print(type(b))"
   ]
  },
  {
   "cell_type": "code",
   "execution_count": 4,
   "id": "550e71f9",
   "metadata": {},
   "outputs": [
    {
     "name": "stdout",
     "output_type": "stream",
     "text": [
      "['1' '2' '3' '4' 'a' '4.5']\n"
     ]
    }
   ],
   "source": [
    "a = [1,2,3,4,'a',4.5]\n",
    "b = np.array(a)\n",
    "print(b)"
   ]
  },
  {
   "cell_type": "markdown",
   "id": "358416ff",
   "metadata": {},
   "source": [
    "#### in above example a numpy array is converted all element in string  because array contain one string value in it  "
   ]
  },
  {
   "cell_type": "code",
   "execution_count": 9,
   "id": "aa847cbe",
   "metadata": {},
   "outputs": [
    {
     "data": {
      "text/plain": [
       "array([1., 1., 1., 1.])"
      ]
     },
     "execution_count": 9,
     "metadata": {},
     "output_type": "execute_result"
    }
   ],
   "source": [
    "a = np.ones(4)\n",
    "a"
   ]
  },
  {
   "cell_type": "code",
   "execution_count": 15,
   "id": "520e7e87",
   "metadata": {},
   "outputs": [
    {
     "data": {
      "text/plain": [
       "array([0, 0])"
      ]
     },
     "execution_count": 15,
     "metadata": {},
     "output_type": "execute_result"
    }
   ],
   "source": [
    "np.zeros(2,dtype = int)"
   ]
  },
  {
   "cell_type": "code",
   "execution_count": 13,
   "id": "c4d53045",
   "metadata": {},
   "outputs": [
    {
     "data": {
      "text/plain": [
       "array([[0, 0, 0],\n",
       "       [0, 0, 0]])"
      ]
     },
     "execution_count": 13,
     "metadata": {},
     "output_type": "execute_result"
    }
   ],
   "source": [
    "np.zeros((2,3),dtype = int)"
   ]
  },
  {
   "cell_type": "code",
   "execution_count": 17,
   "id": "e498beff",
   "metadata": {},
   "outputs": [
    {
     "data": {
      "text/plain": [
       "array([5, 5, 5, 5])"
      ]
     },
     "execution_count": 17,
     "metadata": {},
     "output_type": "execute_result"
    }
   ],
   "source": [
    "np.full(4,5)# full (size,value)"
   ]
  },
  {
   "cell_type": "code",
   "execution_count": 20,
   "id": "4a8cd9ba",
   "metadata": {},
   "outputs": [
    {
     "data": {
      "text/plain": [
       "array([1.39358657e-311, 0.00000000e+000, 1.11258871e-307])"
      ]
     },
     "execution_count": 20,
     "metadata": {},
     "output_type": "execute_result"
    }
   ],
   "source": [
    "np.empty(3)"
   ]
  },
  {
   "cell_type": "code",
   "execution_count": 21,
   "id": "50fa9327",
   "metadata": {},
   "outputs": [],
   "source": [
    "# numpy.arange()\n",
    "b =np.arange(10)"
   ]
  },
  {
   "cell_type": "code",
   "execution_count": 22,
   "id": "92c8e95a",
   "metadata": {},
   "outputs": [
    {
     "data": {
      "text/plain": [
       "array([0, 1, 2, 3, 4, 5, 6, 7, 8, 9])"
      ]
     },
     "execution_count": 22,
     "metadata": {},
     "output_type": "execute_result"
    }
   ],
   "source": [
    "b"
   ]
  },
  {
   "cell_type": "code",
   "execution_count": 25,
   "id": "8e2a2755",
   "metadata": {},
   "outputs": [
    {
     "data": {
      "text/plain": [
       "array([ 2,  4,  6,  8, 10, 12, 14, 16, 18, 20])"
      ]
     },
     "execution_count": 25,
     "metadata": {},
     "output_type": "execute_result"
    }
   ],
   "source": [
    "b =np.arange(2,21,2)\n",
    "b"
   ]
  },
  {
   "cell_type": "code",
   "execution_count": 28,
   "id": "99207f21",
   "metadata": {},
   "outputs": [
    {
     "data": {
      "text/plain": [
       "array([ 2.        ,  2.16326531,  2.32653061,  2.48979592,  2.65306122,\n",
       "        2.81632653,  2.97959184,  3.14285714,  3.30612245,  3.46938776,\n",
       "        3.63265306,  3.79591837,  3.95918367,  4.12244898,  4.28571429,\n",
       "        4.44897959,  4.6122449 ,  4.7755102 ,  4.93877551,  5.10204082,\n",
       "        5.26530612,  5.42857143,  5.59183673,  5.75510204,  5.91836735,\n",
       "        6.08163265,  6.24489796,  6.40816327,  6.57142857,  6.73469388,\n",
       "        6.89795918,  7.06122449,  7.2244898 ,  7.3877551 ,  7.55102041,\n",
       "        7.71428571,  7.87755102,  8.04081633,  8.20408163,  8.36734694,\n",
       "        8.53061224,  8.69387755,  8.85714286,  9.02040816,  9.18367347,\n",
       "        9.34693878,  9.51020408,  9.67346939,  9.83673469, 10.        ])"
      ]
     },
     "execution_count": 28,
     "metadata": {},
     "output_type": "execute_result"
    }
   ],
   "source": [
    "# by default it generate 50 samples\n",
    "np.linspace(2,10)"
   ]
  },
  {
   "cell_type": "code",
   "execution_count": 31,
   "id": "79789d14",
   "metadata": {},
   "outputs": [
    {
     "data": {
      "text/plain": [
       "array([ 2,  4,  6,  8, 10])"
      ]
     },
     "execution_count": 31,
     "metadata": {},
     "output_type": "execute_result"
    }
   ],
   "source": [
    "np.linspace(2,10,5,dtype=int,endpoint = True)\n",
    "# linspace(start,end,no_of_sample,datatype , include end value)"
   ]
  },
  {
   "cell_type": "code",
   "execution_count": 33,
   "id": "d18b759a",
   "metadata": {},
   "outputs": [
    {
     "data": {
      "text/plain": [
       "array([[1., 0., 0., 0.],\n",
       "       [0., 1., 0., 0.],\n",
       "       [0., 0., 1., 0.],\n",
       "       [0., 0., 0., 1.]])"
      ]
     },
     "execution_count": 33,
     "metadata": {},
     "output_type": "execute_result"
    }
   ],
   "source": [
    "# generate square array\n",
    "b = np.identity(4)\n",
    "b"
   ]
  },
  {
   "cell_type": "code",
   "execution_count": 37,
   "id": "7e6e9d3e",
   "metadata": {},
   "outputs": [
    {
     "data": {
      "text/plain": [
       "array([[1., 0., 0.],\n",
       "       [0., 1., 0.]])"
      ]
     },
     "execution_count": 37,
     "metadata": {},
     "output_type": "execute_result"
    }
   ],
   "source": [
    "# eye()generate both square and rectangular array\n",
    "b = np.eye(2,3)\n",
    "b"
   ]
  },
  {
   "cell_type": "code",
   "execution_count": 38,
   "id": "724bbcf2",
   "metadata": {},
   "outputs": [
    {
     "data": {
      "text/plain": [
       "array([0.86445324, 0.64883026, 0.57742322, 0.57691651])"
      ]
     },
     "execution_count": 38,
     "metadata": {},
     "output_type": "execute_result"
    }
   ],
   "source": [
    "b = np.random.rand(4)\n",
    "b"
   ]
  },
  {
   "cell_type": "code",
   "execution_count": 39,
   "id": "3e1fcfe9",
   "metadata": {},
   "outputs": [
    {
     "data": {
      "text/plain": [
       "array([1.76643499, 3.17792412, 7.33044989, 8.96779213, 9.41221485,\n",
       "       2.07535034, 6.62525866, 3.83272354, 1.60522459, 3.41184107])"
      ]
     },
     "execution_count": 39,
     "metadata": {},
     "output_type": "execute_result"
    }
   ],
   "source": [
    "b = np.random.rand(10)*10\n",
    "b"
   ]
  },
  {
   "cell_type": "code",
   "execution_count": 40,
   "id": "3c9cec1a",
   "metadata": {},
   "outputs": [
    {
     "data": {
      "text/plain": [
       "array([[0.67734078, 0.80315452, 0.28822162],\n",
       "       [0.85566395, 0.75588861, 0.86725516],\n",
       "       [0.73249291, 0.28353535, 0.89088115],\n",
       "       [0.40668078, 0.90858701, 0.08601611]])"
      ]
     },
     "execution_count": 40,
     "metadata": {},
     "output_type": "execute_result"
    }
   ],
   "source": [
    "b = np.random.rand(4,3)\n",
    "b"
   ]
  },
  {
   "cell_type": "code",
   "execution_count": 56,
   "id": "2685923e",
   "metadata": {},
   "outputs": [
    {
     "name": "stdout",
     "output_type": "stream",
     "text": [
      "[1 2 3 4 5 7 6 8 4]\n"
     ]
    }
   ],
   "source": [
    "a = [1,2,3,4,5,7,6,8,4]\n",
    "a = np.array(a)\n",
    "print(a)"
   ]
  },
  {
   "cell_type": "code",
   "execution_count": 48,
   "id": "e6996fda",
   "metadata": {},
   "outputs": [
    {
     "name": "stdout",
     "output_type": "stream",
     "text": [
      "<memory at 0x00000290BE60A640>\n",
      "(9,)\n",
      "int32\n",
      "(4,)\n"
     ]
    }
   ],
   "source": [
    "print(a.data)\n",
    "print(a.shape)\n",
    "print(a.dtype)\n",
    "print(a.strides)"
   ]
  },
  {
   "cell_type": "code",
   "execution_count": 64,
   "id": "bbd0213f",
   "metadata": {},
   "outputs": [
    {
     "name": "stdout",
     "output_type": "stream",
     "text": [
      "2\n",
      "[5 7 6 8]\n"
     ]
    }
   ],
   "source": [
    "# accessing element 1d array\n",
    "print(a[1])\n",
    "print(a[4:8])"
   ]
  },
  {
   "cell_type": "code",
   "execution_count": 4,
   "id": "75f22bae",
   "metadata": {},
   "outputs": [
    {
     "name": "stdout",
     "output_type": "stream",
     "text": [
      "[[1 2 3 4]\n",
      " [1 5 7 8]\n",
      " [3 5 7 7]]\n"
     ]
    }
   ],
   "source": [
    "b = [[1,2,3,4],[1,5,7,8],[3,5,7,7]]\n",
    "b = np.array(b)\n",
    "print(b)"
   ]
  },
  {
   "cell_type": "code",
   "execution_count": 66,
   "id": "93dfb66f",
   "metadata": {},
   "outputs": [
    {
     "name": "stdout",
     "output_type": "stream",
     "text": [
      "<memory at 0x00000290BD214380>\n",
      "(3, 4)\n",
      "int32\n",
      "(16, 4)\n"
     ]
    }
   ],
   "source": [
    "print(b.data)\n",
    "print(b.shape)\n",
    "print(b.dtype)\n",
    "print(b.strides)"
   ]
  },
  {
   "cell_type": "code",
   "execution_count": 5,
   "id": "baec8c01",
   "metadata": {},
   "outputs": [
    {
     "name": "stdout",
     "output_type": "stream",
     "text": [
      "5\n",
      "5\n"
     ]
    }
   ],
   "source": [
    "#access element in 2d array \n",
    "print(b[2][1])\n",
    "print(b[2,1])    "
   ]
  },
  {
   "cell_type": "code",
   "execution_count": 6,
   "id": "b40237dc",
   "metadata": {},
   "outputs": [
    {
     "name": "stdout",
     "output_type": "stream",
     "text": [
      "[5 7]\n"
     ]
    }
   ],
   "source": [
    "# access multiple element of same row\n",
    "print(b[1][1:3])"
   ]
  },
  {
   "cell_type": "code",
   "execution_count": 33,
   "id": "b96c1110",
   "metadata": {},
   "outputs": [
    {
     "name": "stdout",
     "output_type": "stream",
     "text": [
      "[[4]\n",
      " [8]\n",
      " [7]]\n"
     ]
    }
   ],
   "source": [
    "# access multiple element of same column\n",
    "print(b[:,3:])"
   ]
  },
  {
   "cell_type": "code",
   "execution_count": 60,
   "id": "9b74de0f",
   "metadata": {},
   "outputs": [
    {
     "name": "stdout",
     "output_type": "stream",
     "text": [
      "[6 8 3 6 4]\n",
      "[9 5 7 6 4]\n"
     ]
    }
   ],
   "source": [
    "a = np.random.randint(1,10,5)\n",
    "b = np.random.randint(1,10,5)\n",
    "print(a)\n",
    "print(b)"
   ]
  },
  {
   "cell_type": "code",
   "execution_count": 61,
   "id": "3d35a58b",
   "metadata": {},
   "outputs": [
    {
     "data": {
      "text/plain": [
       "array([15, 13, 10, 12,  8])"
      ]
     },
     "execution_count": 61,
     "metadata": {},
     "output_type": "execute_result"
    }
   ],
   "source": [
    "a+b"
   ]
  },
  {
   "cell_type": "code",
   "execution_count": 62,
   "id": "8f057bfe",
   "metadata": {},
   "outputs": [
    {
     "data": {
      "text/plain": [
       "array([54, 40, 21, 36, 16])"
      ]
     },
     "execution_count": 62,
     "metadata": {},
     "output_type": "execute_result"
    }
   ],
   "source": [
    "a*b"
   ]
  },
  {
   "cell_type": "code",
   "execution_count": 63,
   "id": "6c7d384e",
   "metadata": {},
   "outputs": [
    {
     "data": {
      "text/plain": [
       "array([ 3, -3,  4,  0,  0])"
      ]
     },
     "execution_count": 63,
     "metadata": {},
     "output_type": "execute_result"
    }
   ],
   "source": [
    "b-a"
   ]
  },
  {
   "cell_type": "code",
   "execution_count": 64,
   "id": "492fa385",
   "metadata": {},
   "outputs": [
    {
     "data": {
      "text/plain": [
       "array([10077696,    32768,     2187,    46656,      256], dtype=int32)"
      ]
     },
     "execution_count": 64,
     "metadata": {},
     "output_type": "execute_result"
    }
   ],
   "source": [
    "a**b"
   ]
  },
  {
   "cell_type": "code",
   "execution_count": 65,
   "id": "89f9e269",
   "metadata": {},
   "outputs": [
    {
     "data": {
      "text/plain": [
       "array([0.66666667, 1.6       , 0.42857143, 1.        , 1.        ])"
      ]
     },
     "execution_count": 65,
     "metadata": {},
     "output_type": "execute_result"
    }
   ],
   "source": [
    "a/b"
   ]
  },
  {
   "cell_type": "code",
   "execution_count": 66,
   "id": "4b74f500",
   "metadata": {},
   "outputs": [
    {
     "data": {
      "text/plain": [
       "array([0, 1, 0, 1, 1], dtype=int32)"
      ]
     },
     "execution_count": 66,
     "metadata": {},
     "output_type": "execute_result"
    }
   ],
   "source": [
    "a//b\n"
   ]
  },
  {
   "cell_type": "code",
   "execution_count": 67,
   "id": "0b8cc42d",
   "metadata": {},
   "outputs": [
    {
     "name": "stdout",
     "output_type": "stream",
     "text": [
      "[6 8 3 6 4]\n",
      "27\n",
      "5.4\n",
      "3\n",
      "8\n",
      "2\n",
      "1\n"
     ]
    }
   ],
   "source": [
    "print(a)\n",
    "print(a.sum()) # sum of array\n",
    "print(a.mean())# mean of array\n",
    "print(a.min())# minimum value of array\n",
    "print(a.max())#maximum value of array\n",
    "print(a.argmin())# index of minimum value of array\n",
    "print(a.argmax())# index of maximum value of array"
   ]
  },
  {
   "cell_type": "markdown",
   "id": "d05544aa",
   "metadata": {},
   "source": [
    "#### relational operations on array"
   ]
  },
  {
   "cell_type": "code",
   "execution_count": 68,
   "id": "b14ae413",
   "metadata": {},
   "outputs": [
    {
     "data": {
      "text/plain": [
       "array([False,  True, False, False, False])"
      ]
     },
     "execution_count": 68,
     "metadata": {},
     "output_type": "execute_result"
    }
   ],
   "source": [
    "a>b"
   ]
  },
  {
   "cell_type": "code",
   "execution_count": 69,
   "id": "36883ec0",
   "metadata": {},
   "outputs": [
    {
     "data": {
      "text/plain": [
       "array([False, False, False,  True,  True])"
      ]
     },
     "execution_count": 69,
     "metadata": {},
     "output_type": "execute_result"
    }
   ],
   "source": [
    "a==b\n"
   ]
  },
  {
   "cell_type": "code",
   "execution_count": 70,
   "id": "e712a547",
   "metadata": {},
   "outputs": [
    {
     "data": {
      "text/plain": [
       "array([ True, False,  True, False, False])"
      ]
     },
     "execution_count": 70,
     "metadata": {},
     "output_type": "execute_result"
    }
   ],
   "source": [
    "a<b"
   ]
  },
  {
   "cell_type": "markdown",
   "id": "bb04d11f",
   "metadata": {},
   "source": [
    "#### Logical operation"
   ]
  },
  {
   "cell_type": "code",
   "execution_count": 71,
   "id": "0621b22e",
   "metadata": {},
   "outputs": [
    {
     "name": "stdout",
     "output_type": "stream",
     "text": [
      "[ True  True  True  True  True]\n"
     ]
    }
   ],
   "source": [
    "print(np.logical_or(a,b))"
   ]
  },
  {
   "cell_type": "code",
   "execution_count": 72,
   "id": "0d9648c5",
   "metadata": {},
   "outputs": [
    {
     "name": "stdout",
     "output_type": "stream",
     "text": [
      "[ True  True  True  True  True]\n"
     ]
    }
   ],
   "source": [
    "print(np.logical_and(a,b))"
   ]
  },
  {
   "cell_type": "code",
   "execution_count": 73,
   "id": "5df60362",
   "metadata": {},
   "outputs": [
    {
     "name": "stdout",
     "output_type": "stream",
     "text": [
      "[False False False False False]\n"
     ]
    }
   ],
   "source": [
    "print(np.logical_not(a))"
   ]
  },
  {
   "cell_type": "code",
   "execution_count": 74,
   "id": "1c53a367",
   "metadata": {},
   "outputs": [
    {
     "name": "stdout",
     "output_type": "stream",
     "text": [
      "[False False  True False False]\n"
     ]
    }
   ],
   "source": [
    "b[2]=0\n",
    "print(np.logical_not(b))"
   ]
  },
  {
   "cell_type": "code",
   "execution_count": 82,
   "id": "7a7a611c",
   "metadata": {},
   "outputs": [
    {
     "name": "stdout",
     "output_type": "stream",
     "text": [
      "[9 6]\n"
     ]
    }
   ],
   "source": [
    "# print elements which satisfy condition \n",
    "n = b[(b<10)& (b>5)]\n",
    "print(n)"
   ]
  },
  {
   "cell_type": "code",
   "execution_count": 83,
   "id": "189d5f75",
   "metadata": {},
   "outputs": [],
   "source": [
    "c =b \n",
    "c[c<6] =10    "
   ]
  },
  {
   "cell_type": "code",
   "execution_count": 84,
   "id": "0abc7599",
   "metadata": {},
   "outputs": [
    {
     "data": {
      "text/plain": [
       "array([ 9, 10, 10,  6, 10])"
      ]
     },
     "execution_count": 84,
     "metadata": {},
     "output_type": "execute_result"
    }
   ],
   "source": [
    "c"
   ]
  },
  {
   "cell_type": "code",
   "execution_count": 87,
   "id": "0f2927bd",
   "metadata": {},
   "outputs": [
    {
     "name": "stdout",
     "output_type": "stream",
     "text": [
      "[10 10 10]\n"
     ]
    }
   ],
   "source": [
    "print(b[b==10])"
   ]
  },
  {
   "cell_type": "code",
   "execution_count": 88,
   "id": "348013f2",
   "metadata": {},
   "outputs": [
    {
     "name": "stdout",
     "output_type": "stream",
     "text": [
      "(array([1, 2, 4], dtype=int64),)\n"
     ]
    }
   ],
   "source": [
    "# index \n",
    "print(np.where(b==10))"
   ]
  },
  {
   "cell_type": "code",
   "execution_count": 110,
   "id": "bd82c0fb",
   "metadata": {},
   "outputs": [],
   "source": [
    "a = np.random.randint(1,30,(5,6))"
   ]
  },
  {
   "cell_type": "code",
   "execution_count": 111,
   "id": "a4e1bdd5",
   "metadata": {},
   "outputs": [
    {
     "data": {
      "text/plain": [
       "array([[23, 12, 21, 27,  7, 12],\n",
       "       [22, 27,  5,  9, 10, 25],\n",
       "       [17, 10, 27, 27, 21, 26],\n",
       "       [13, 25,  9,  4,  8, 17],\n",
       "       [10,  4, 29,  4, 17,  5]])"
      ]
     },
     "execution_count": 111,
     "metadata": {},
     "output_type": "execute_result"
    }
   ],
   "source": [
    "a"
   ]
  },
  {
   "cell_type": "code",
   "execution_count": 112,
   "id": "4f53a501",
   "metadata": {},
   "outputs": [
    {
     "name": "stdout",
     "output_type": "stream",
     "text": [
      "[[False  True False False  True  True]\n",
      " [False False  True  True  True False]\n",
      " [ True  True False False False False]\n",
      " [ True False  True  True  True  True]\n",
      " [ True  True False  True  True  True]]\n"
     ]
    }
   ],
   "source": [
    "print(a<20)"
   ]
  },
  {
   "cell_type": "code",
   "execution_count": 113,
   "id": "ad5afd43",
   "metadata": {},
   "outputs": [
    {
     "name": "stdout",
     "output_type": "stream",
     "text": [
      "[12  7 12  5  9 10 17 10 13  9  4  8 17 10  4  4 17  5]\n"
     ]
    }
   ],
   "source": [
    "print(a[a<20])"
   ]
  },
  {
   "cell_type": "code",
   "execution_count": 114,
   "id": "0fca4599",
   "metadata": {},
   "outputs": [
    {
     "data": {
      "text/plain": [
       "array([[100,  12, 100, 100,   7,  12],\n",
       "       [100, 100,   5,   9,  10, 100],\n",
       "       [ 17,  10, 100, 100, 100, 100],\n",
       "       [ 13, 100,   9,   4,   8,  17],\n",
       "       [ 10,   4, 100,   4,  17,   5]])"
      ]
     },
     "execution_count": 114,
     "metadata": {},
     "output_type": "execute_result"
    }
   ],
   "source": [
    "a[a>20] = 100\n",
    "a"
   ]
  },
  {
   "cell_type": "code",
   "execution_count": 115,
   "id": "a6d3c1b5",
   "metadata": {},
   "outputs": [
    {
     "name": "stdout",
     "output_type": "stream",
     "text": [
      "[[100  12 100 100   7  12]\n",
      " [100 100   5   9  10 100]\n",
      " [ 17  10 100 100  99 100]\n",
      " [ 13 100   9   4   8  17]\n",
      " [ 10   4 100   4  17   5]]\n"
     ]
    }
   ],
   "source": [
    "# find value equal to 100 in particular column (4) change it to 99\n",
    "b = a[:,4] == 100\n",
    "a[b,4] = 99\n",
    "print(a)"
   ]
  },
  {
   "cell_type": "markdown",
   "id": "bc9c9e82",
   "metadata": {},
   "source": [
    "### broadcasting"
   ]
  },
  {
   "cell_type": "code",
   "execution_count": 118,
   "id": "a14d40fb",
   "metadata": {},
   "outputs": [],
   "source": [
    "a = np.random.randint(1,30,(5,5)) \n",
    "b = np.random.randint(1,30,(5))"
   ]
  },
  {
   "cell_type": "code",
   "execution_count": 119,
   "id": "a9c45659",
   "metadata": {},
   "outputs": [
    {
     "data": {
      "text/plain": [
       "array([[22, 42, 38, 56, 16],\n",
       "       [39, 24, 44, 31, 24],\n",
       "       [26, 27, 43, 29, 23],\n",
       "       [21, 30, 33, 41, 23],\n",
       "       [37, 39, 30, 40, 22]])"
      ]
     },
     "execution_count": 119,
     "metadata": {},
     "output_type": "execute_result"
    }
   ],
   "source": [
    "a+b"
   ]
  },
  {
   "cell_type": "code",
   "execution_count": 122,
   "id": "bd8a097f",
   "metadata": {},
   "outputs": [
    {
     "data": {
      "text/plain": [
       "array([[16, 20, 15, 21],\n",
       "       [14,  7, 28,  7],\n",
       "       [ 1, 23, 22,  2],\n",
       "       [ 8, 11, 10, 16],\n",
       "       [22, 12,  5, 15]])"
      ]
     },
     "execution_count": 122,
     "metadata": {},
     "output_type": "execute_result"
    }
   ],
   "source": [
    "b = np.random.randint(1,30,(5,4))\n",
    "c = np.random.randint(1,30,(4,5))\n",
    "y = np.transpose(c)\n",
    "y"
   ]
  },
  {
   "cell_type": "code",
   "execution_count": 123,
   "id": "3b59ec8f",
   "metadata": {},
   "outputs": [
    {
     "data": {
      "text/plain": [
       "array([[-10, -15,  -5,   0],\n",
       "       [ -1,  14,   0,  -3],\n",
       "       [ 22, -14,  -8,  17],\n",
       "       [ 14,  17,   6, -10],\n",
       "       [  2,  -6,  19,  13]])"
      ]
     },
     "execution_count": 123,
     "metadata": {},
     "output_type": "execute_result"
    }
   ],
   "source": [
    "b-y"
   ]
  },
  {
   "cell_type": "code",
   "execution_count": null,
   "id": "9d6d2388",
   "metadata": {},
   "outputs": [],
   "source": []
  }
 ],
 "metadata": {
  "kernelspec": {
   "display_name": "Python 3 (ipykernel)",
   "language": "python",
   "name": "python3"
  },
  "language_info": {
   "codemirror_mode": {
    "name": "ipython",
    "version": 3
   },
   "file_extension": ".py",
   "mimetype": "text/x-python",
   "name": "python",
   "nbconvert_exporter": "python",
   "pygments_lexer": "ipython3",
   "version": "3.9.13"
  }
 },
 "nbformat": 4,
 "nbformat_minor": 5
}
